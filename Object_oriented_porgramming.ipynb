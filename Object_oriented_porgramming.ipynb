{
  "nbformat": 4,
  "nbformat_minor": 0,
  "metadata": {
    "colab": {
      "provenance": []
    },
    "language_info": {
      "name": "python"
    },
    "kernelspec": {
      "name": "python3",
      "display_name": "Python 3"
    },
    "gpuClass": "standard"
  },
  "cells": [
    {
      "cell_type": "markdown",
      "source": [
        "#Chapter 6 - Objected Oriented Programming"
      ],
      "metadata": {
        "id": "e46_jZRpueib"
      }
    },
    {
      "cell_type": "markdown",
      "source": [
        "-- *A Python Course for the Humanities by Folgert Karsdorp and Maarten van Gompel*"
      ],
      "metadata": {
        "id": "JkmzcbBPueig"
      }
    },
    {
      "cell_type": "markdown",
      "source": [
        "---"
      ],
      "metadata": {
        "id": "zHVRdqrJueii"
      }
    },
    {
      "cell_type": "markdown",
      "source": [
        "In this chapter we will introduce a new programming paradigm: **Object Oriented Programming**. We will build an application that builds a social network and computes a graph of relations between people on Twitter. The nodes of the graph will be the twitter users, and the directed edges indicate that one speaks to another. The edges will carry a weight representing the number of times messages were sent. \n",
        "\n",
        "Given a twitter corpus, we will extract who talks to whom, and whenever a connection is found, an edge is added to our graph, or an existing edge is strenghtened.\n"
      ],
      "metadata": {
        "id": "fKfxLLYyueii"
      }
    },
    {
      "cell_type": "markdown",
      "source": [
        "Object oriented programming is a data-centered programming paradigm that is based on the idea of grouping data and functions that act on particular data in so-called **classes**. A class can be seen as a complex data-type, a template if you will. Variables that are of that data type are said to be **objects** or **instances** of that class.\n"
      ],
      "metadata": {
        "id": "kyeGjpCpueij"
      }
    },
    {
      "cell_type": "markdown",
      "source": [
        "An example will clarify things:"
      ],
      "metadata": {
        "id": "mN752C4Rueik"
      }
    },
    {
      "cell_type": "code",
      "source": [
        "class Person:\n",
        "    def __init__(self, name, age):\n",
        "        self.name = name\n",
        "        self.age = age"
      ],
      "outputs": [],
      "metadata": {
        "id": "wV6x_7bCueil"
      },
      "execution_count": null
    },
    {
      "cell_type": "markdown",
      "source": [
        "Ok, several things happen here. Here we created a class Person with a function `__init__`. Functions that start with underscores are always special functions to Python which are connected with other built-in aspects of the language. The initialisation function will be called when an object of that initialised. Let's do so:"
      ],
      "metadata": {
        "id": "6xNWepoduein"
      }
    },
    {
      "cell_type": "code",
      "source": [
        "author = Person(\"Maarten\", 30)\n",
        "print(\"My name is \" + author.name)\n",
        "print(\"My age is \" + str(author.age))"
      ],
      "outputs": [
        {
          "output_type": "stream",
          "name": "stdout",
          "text": [
            "My name is Maarten\n",
            "My age is 30\n"
          ]
        }
      ],
      "metadata": {
        "colab": {
          "base_uri": "https://localhost:8080/"
        },
        "id": "2I6VvTWjuein",
        "outputId": "bf64e49a-5b99-4c62-c06b-2e334af959e6"
      },
      "execution_count": null
    },
    {
      "cell_type": "code",
      "source": [
        "class DumbNumbers:\n",
        "  def _init_(self,x):\n",
        "     self.nplus2=x+2\n",
        "art=DumbNumbers()\n",
        "print(art.nplus2)\n"
      ],
      "metadata": {
        "colab": {
          "base_uri": "https://localhost:8080/",
          "height": 217
        },
        "id": "CTQ2b-jO5IdP",
        "outputId": "29395bf5-dfe9-4cb6-8493-7effb11f4026"
      },
      "execution_count": null,
      "outputs": [
        {
          "output_type": "error",
          "ename": "TypeError",
          "evalue": "ignored",
          "traceback": [
            "\u001b[0;31m---------------------------------------------------------------------------\u001b[0m",
            "\u001b[0;31mTypeError\u001b[0m                                 Traceback (most recent call last)",
            "\u001b[0;32m<ipython-input-4-70306cdabee2>\u001b[0m in \u001b[0;36m<module>\u001b[0;34m\u001b[0m\n\u001b[1;32m      2\u001b[0m   \u001b[0;32mdef\u001b[0m \u001b[0m_init_\u001b[0m\u001b[0;34m(\u001b[0m\u001b[0mself\u001b[0m\u001b[0;34m,\u001b[0m\u001b[0mx\u001b[0m\u001b[0;34m)\u001b[0m\u001b[0;34m:\u001b[0m\u001b[0;34m\u001b[0m\u001b[0;34m\u001b[0m\u001b[0m\n\u001b[1;32m      3\u001b[0m      \u001b[0mself\u001b[0m\u001b[0;34m.\u001b[0m\u001b[0mnplus2\u001b[0m\u001b[0;34m=\u001b[0m\u001b[0mx\u001b[0m\u001b[0;34m+\u001b[0m\u001b[0;36m2\u001b[0m\u001b[0;34m\u001b[0m\u001b[0;34m\u001b[0m\u001b[0m\n\u001b[0;32m----> 4\u001b[0;31m \u001b[0mart\u001b[0m\u001b[0;34m=\u001b[0m\u001b[0mDumbNumbers\u001b[0m\u001b[0;34m(\u001b[0m\u001b[0;36m2\u001b[0m\u001b[0;34m)\u001b[0m\u001b[0;34m\u001b[0m\u001b[0;34m\u001b[0m\u001b[0m\n\u001b[0m\u001b[1;32m      5\u001b[0m \u001b[0mprint\u001b[0m\u001b[0;34m(\u001b[0m\u001b[0mart\u001b[0m\u001b[0;34m.\u001b[0m\u001b[0mnplus2\u001b[0m\u001b[0;34m)\u001b[0m\u001b[0;34m\u001b[0m\u001b[0;34m\u001b[0m\u001b[0m\n",
            "\u001b[0;31mTypeError\u001b[0m: DumbNumbers() takes no arguments"
          ]
        }
      ]
    },
    {
      "cell_type": "markdown",
      "source": [
        "Functions within a class are called **methods**. The initialisation method assigns the two parameters that are passed to variables that *belong to the object*, within a class definition the object is always represented by `self`.\n",
        "\n",
        "The first argument of a method is always `self`, and it will always point to the instance of the class. This first argument however is never explicitly specified when you call the method. It is implicitly passed by Python itself. That is why you see a discrepancy between the number of arguments in the instantiation and in the class definition.\n",
        "\n",
        "\n",
        "Any variable or methods in a class can be accessed using the period (`.`) syntax:\n",
        "\n",
        "    object.variable \n",
        "\n",
        "or:\n",
        "\n",
        "    object.method\n",
        "\n"
      ],
      "metadata": {
        "id": "_dJ7DfQDueio"
      }
    },
    {
      "cell_type": "markdown",
      "source": [
        "In the above example we printed the name and age. We can turn this into a method as well, thus allowing any person to introduce himself/herself. Let's extend our example:"
      ],
      "metadata": {
        "id": "0VYWWPJ-ueip"
      }
    },
    {
      "cell_type": "code",
      "source": [
        "class Person:\n",
        "    def __init__(self, name, age):\n",
        "        self.name = name\n",
        "        self.age = age\n",
        "        \n",
        "    def introduceyourself(self):\n",
        "        print(\"My name is \" + self.name)\n",
        "        print(\"My age is \" + str(self.age))\n",
        "        \n",
        "author = Person(\"Maarten\",30)\n",
        "author.introduceyourself()"
      ],
      "outputs": [
        {
          "output_type": "stream",
          "name": "stdout",
          "text": [
            "My name is Maarten\n",
            "My age is 30\n"
          ]
        }
      ],
      "metadata": {
        "colab": {
          "base_uri": "https://localhost:8080/"
        },
        "id": "TouN2JW_ueip",
        "outputId": "8027a3bc-0168-45c0-ff07-1e3fb8fd0da7"
      },
      "execution_count": null
    },
    {
      "cell_type": "markdown",
      "source": [
        "Do you see what happens here? Do you understand the role of `self` and notation with the period?"
      ],
      "metadata": {
        "id": "d43KDd5xueiq"
      }
    },
    {
      "cell_type": "markdown",
      "source": [
        "Unbeknowst to you, we have already made use of countless objects and methods throughout this course. Things like strings, lists, sets, dictionaries are all objects! Isn't that a shock? :) The object oriented paradigm is ubiquitous in Python!"
      ],
      "metadata": {
        "id": "VWM7UMryueiq"
      }
    },
    {
      "cell_type": "markdown",
      "source": [
        "####Exercise"
      ],
      "metadata": {
        "id": "DJo-Bpwyueir"
      }
    },
    {
      "cell_type": "markdown",
      "source": [
        "Add a variable `gender` (a string) to the Person class and adapt the initialisation method accordingly. Also add a method `ismale()` that uses this new information and returns a boolean value (True/False).\n"
      ],
      "metadata": {
        "id": "g7jm7FK0ueir"
      }
    },
    {
      "cell_type": "code",
      "source": [
        "#adapt the code:\n",
        "\n",
        "class Person:# person class  persojn()   class teacher(person)-->inherits class \"person\" defined\n",
        "    def __init__(self, name, age, gender): #added gender variable here\n",
        "        self.name = name\n",
        "        self.age = age #class has some methods( if you want the everything to be str, add everything that is str)\n",
        "        self.gender = gender\n",
        "        \n",
        "    def introduceyourself(self):\n",
        "        print(\"My name is \" + self.name)\n",
        "        print(\"My age is \" + str(self.age))\n",
        "    def ismale(self):\n",
        "      lower_gen = self.gender.lower() #cobverting to lower case\n",
        "      if lower_gen=='male': #it can contain or belong to any other class\n",
        "        print(\"My gender is \" + lower_gen)\n",
        "author = Person(\"Maarten\",30, 'male')\n",
        "author.introduceyourself()\n",
        "author.ismale()"
      ],
      "outputs": [
        {
          "output_type": "stream",
          "name": "stdout",
          "text": [
            "My name is Maarten\n",
            "My age is 30\n",
            "My gender is male\n"
          ]
        }
      ],
      "metadata": {
        "id": "AiEUVHFlueis",
        "colab": {
          "base_uri": "https://localhost:8080/"
        },
        "outputId": "9d7bb3a4-8ec0-4af2-b74b-886ecb85537a"
      },
      "execution_count": null
    },
    {
      "cell_type": "markdown",
      "source": [
        "---"
      ],
      "metadata": {
        "id": "eu8lwTOsueit"
      }
    },
    {
      "cell_type": "markdown",
      "source": [
        "###Inheritance *"
      ],
      "metadata": {
        "id": "X03F3bKxueit"
      }
    },
    {
      "cell_type": "markdown",
      "source": [
        "One of the neat things you can do with classes is that you can build more specialised classes on top of more generic classes. `Person` for instance is a rather generic concept. We can use this generic class to build a more specialised class `Teacher`, a person that teaches a course. If you use inheritance, everything that the parent class could do, the inherited class can do as well!\n",
        "\n",
        "The syntax for inheritance is as follows, do not confuse it with parameters in a function/method definition. We also add an extra method `stateprofession()` otherwise `Teacher` would be no different than `Person`:"
      ],
      "metadata": {
        "id": "VIq7SqkLueit"
      }
    },
    {
      "cell_type": "code",
      "source": [
        "class Person:\n",
        "    def __init__(self, name, age):\n",
        "        self.name = name\n",
        "        self.age = age\n",
        "        \n",
        "    def introduceyourself(self):\n",
        "        print(\"My name is \" + self.name)\n",
        "        print(\"My age is \" + str(self.age))\n",
        "\n",
        "        \n",
        "class Teacher(Person): #this class inherits the class above!\n",
        "    def stateprofession(self): #np init so no need of super\n",
        "        print(\"I am a teacher!\")"
      ],
      "outputs": [],
      "metadata": {
        "id": "JKJCegyWueiu"
      },
      "execution_count": null
    },
    {
      "cell_type": "code",
      "source": [
        "author = Teacher(\"Maarten\",30)\n",
        "author.introduceyourself()\n",
        "author.stateprofession()\n",
        "author= Person(\"Maarten\", 30)"
      ],
      "outputs": [
        {
          "output_type": "stream",
          "name": "stdout",
          "text": [
            "My name is Maarten\n",
            "My age is 30\n",
            "I am a teacher!\n"
          ]
        }
      ],
      "metadata": {
        "colab": {
          "base_uri": "https://localhost:8080/"
        },
        "id": "0zTS6wluueiu",
        "outputId": "8e3fb02b-32bb-4ad2-db7d-21d6860caa60"
      },
      "execution_count": null
    },
    {
      "cell_type": "markdown",
      "source": [
        "####Exercise"
      ],
      "metadata": {
        "id": "uitwMNJwueiv"
      }
    },
    {
      "cell_type": "markdown",
      "source": [
        "If the class `Person` would have already had a method `stateprofession`, then it would have been overruled (we say *overloaded*) by the one in the `Teacher` class. Edit the example above, add a print like *\"I have no profession! :'(\"* and see that nothings changes"
      ],
      "metadata": {
        "id": "TDJkcrPmueiw"
      }
    },
    {
      "cell_type": "markdown",
      "source": [
        "---"
      ],
      "metadata": {
        "id": "bLaTPn-gueix"
      }
    },
    {
      "cell_type": "markdown",
      "source": [
        "Instead of completely overloading a method, you can also call the method of the parent class. The following example contains modified versions of all methods, adds some extra methods and variables to keep track of the courses that are taught by the teacher. The edited methods call the method of the parent class the avoid repetition of code (one of the deadly sins of computer programming):"
      ],
      "metadata": {
        "id": "BApSf0bfueix"
      }
    },
    {
      "cell_type": "code",
      "source": [
        "class Teacher(Person): #this class inherits the class above!\n",
        "    def __init__(self, name, age):\n",
        "        self.courses = [] #initialise a new variable\n",
        "        super().__init__(name,age) #call the init of Person #super -g to the parent class, intialize the case of the person and have access to its variables.\n",
        "        \n",
        "    def stateprofession(self):\n",
        "        print(\"I am a teacher!\")        \n",
        "    \n",
        "    def introduceyourself(self):\n",
        "        super().introduceyourself() #call the introduceyourself() of the Person\n",
        "        self.stateprofession()\n",
        "        print(\"I teach \" + str(self.nrofcourses()) + \" course(s)\")\n",
        "        for course in self.courses:\n",
        "            print(\"I teach \" + course)\n",
        "      \n",
        "        \n",
        "    \n",
        "    def addcourse(self, course):\n",
        "        self.courses.append(course)\n",
        "        \n",
        "    def nrofcourses(self):\n",
        "        return len(self.courses)\n",
        "    \n",
        "    \n",
        "author = Teacher(\"Maarten\",30)\n",
        "print(author.age)\n",
        "print(author.name)\n",
        "author.addcourse(\"Python\")\n",
        "print(author.courses)\n",
        "author.introduceyourself()\n",
        "print(author.nrofcourses())\n"
      ],
      "outputs": [
        {
          "output_type": "stream",
          "name": "stdout",
          "text": [
            "30\n",
            "Maarten\n",
            "['Python']\n",
            "My name is Maarten\n",
            "My age is 30\n",
            "I am a teacher!\n",
            "I teach 1 course(s)\n",
            "I teach Python\n",
            "1\n"
          ]
        }
      ],
      "metadata": {
        "id": "e5InKYf7ueiy",
        "colab": {
          "base_uri": "https://localhost:8080/"
        },
        "outputId": "a060ef4a-5c34-4b1b-a9b4-595903cdd597"
      },
      "execution_count": null
    },
    {
      "cell_type": "markdown",
      "source": [
        "---"
      ],
      "metadata": {
        "id": "pmGQ_3qvueiz"
      }
    },
    {
      "cell_type": "markdown",
      "source": [
        "###Operator overloading"
      ],
      "metadata": {
        "id": "58HkXkriuei0"
      }
    },
    {
      "cell_type": "markdown",
      "source": [
        "If you write your own classes, you can define what needs to happen if an operator such as for example `+`,`/` or `<` is used on your class. You can also define what happens when the keyword `in` or built-in functions such as `len()` are you used with your class. This allows for a very elegant way of programming. Each of these operators and built-in functions have an associated method which you can overload. All of these methods start, like `__init__`, with a double underscore.\n"
      ],
      "metadata": {
        "id": "XmZ9Znituei0"
      }
    },
    {
      "cell_type": "markdown",
      "source": [
        "For example. Let's allow comparison of tweets using the '<' and '>' operators. The methods for the opertors are respectively `__lt__` and `__gt__`, both take one argument, the other object to compare to. A tweet qualifies as greater than another if it is a newer, more recent, tweet:"
      ],
      "metadata": {
        "id": "zuzWvkhTuei1"
      }
    },
    {
      "cell_type": "code",
      "source": [
        "class Tweet:\n",
        "    def __init__(self, message, time):\n",
        "        self.message = message\n",
        "        self.time = time # we will assume here that time is a numerical value\n",
        "        \n",
        "    def __lt__(self, other): #_it_ takes one arg and obj to compare \n",
        "        return self.time < other.time\n",
        "        \n",
        "    def __gt__(self, other):\n",
        "        return self.time > other.time    \n",
        "    \n",
        "\n",
        "oldtweet = Tweet(\"this is an old tweet\",20)\n",
        "newtweet = Tweet(\"this is a new tweet\",1000)\n",
        "print(newtweet > oldtweet)\n",
        "        "
      ],
      "outputs": [],
      "metadata": {
        "id": "RqXmehJluei2"
      },
      "execution_count": null
    },
    {
      "cell_type": "markdown",
      "source": [
        "You may not yet see much use in this, but consider for example the built-in function `sorted()`. Having such methods defined now means we can sort our tweets! And because we defined the methods `__lt__` and `__gt__` based on time. It will automatically sort them on time, from old to new:"
      ],
      "metadata": {
        "id": "TisxTsKbuei3"
      }
    },
    {
      "cell_type": "code",
      "source": [
        "tweets = [newtweet,oldtweet]\n",
        "\n",
        "for tweet in sorted(tweets):\n",
        "    print(tweet.message)"
      ],
      "outputs": [],
      "metadata": {
        "id": "BqGBYrhiuei5"
      },
      "execution_count": null
    },
    {
      "cell_type": "markdown",
      "source": [
        "####Exercise"
      ],
      "metadata": {
        "id": "VJUZ685Quei6"
      }
    },
    {
      "cell_type": "markdown",
      "source": [
        "Remember the `in` keyword? Used checking items in lists and keys in dictionaries? To recap:"
      ],
      "metadata": {
        "id": "7OxmlzNJuei7"
      }
    },
    {
      "cell_type": "code",
      "source": [
        "fruits = ['banana','pear','orange']\n",
        "print('pear' in fruits)"
      ],
      "outputs": [],
      "metadata": {
        "id": "yGMrikbOuei8"
      },
      "execution_count": null
    },
    {
      "cell_type": "markdown",
      "source": [
        "Overloading this operator is done using the `__contains__` method. It takes as extra argument the item that is being searched for ('pear' in the above example). The method should return a boolean value. For tweets, let's implement support for the `in` operator and have it check whether a certain word is in the tweet."
      ],
      "metadata": {
        "id": "6anki1Dauei8"
      }
    },
    {
      "cell_type": "code",
      "source": [
        "class Tweet:\n",
        "    def __init__(self, message, time):\n",
        "        self.message = message\n",
        "        self.time = time\n",
        "\n",
        "    def __lt__(self, other):\n",
        "        return self.time < other.time\n",
        "        \n",
        "    def __contains__(self, word):\n",
        "        #Implement the method\n",
        "\n",
        "tweet = \"I just flushed my toilet\"\n",
        "#now write code to check if the word \"flushed\" is in the tweet\n",
        "#and print something nice if that's the case\n",
        "\n"
      ],
      "outputs": [
        {
          "output_type": "execute_result",
          "data": {
            "text/plain": [
              "True"
            ]
          },
          "metadata": {},
          "execution_count": 9
        }
      ],
      "metadata": {
        "colab": {
          "base_uri": "https://localhost:8080/"
        },
        "id": "Zo1BL7-Ouei8",
        "outputId": "82713bfb-0aa7-4672-f2bc-489890bb3c5c"
      },
      "execution_count": null
    },
    {
      "cell_type": "markdown",
      "source": [
        "---\n"
      ],
      "metadata": {
        "id": "EDWpc7Cquei9"
      }
    },
    {
      "cell_type": "markdown",
      "source": [
        "###Iteration over an object"
      ],
      "metadata": {
        "id": "rL64CBljuei9"
      }
    },
    {
      "cell_type": "markdown",
      "source": [
        "Remember how we can iterate over lists and dictionaries using a for loop? To recap:"
      ],
      "metadata": {
        "id": "66AGz-8iuei-"
      }
    },
    {
      "cell_type": "code",
      "source": [
        "fruits = ['banana','pear','orange']\n",
        "for fruit in fruits:\n",
        "    print(fruit)"
      ],
      "outputs": [],
      "metadata": {
        "id": "C7gQEuucuei-"
      },
      "execution_count": null
    },
    {
      "cell_type": "markdown",
      "source": [
        "We can do the same for our own object. We can make them support iteration. This is done by overloading the `__iter__` method. It takes no extra arguments and should be a **generator**. Which if you recall means that you should use `yield` instead of `return`. Consider the following class `TwitterUser`, if we iterate over an instance of that class, we want to iterate over all tweets. To make it more fun, let's iterate in chronologically sorted order:"
      ],
      "metadata": {
        "id": "CC-VG9kBuei_"
      }
    },
    {
      "cell_type": "code",
      "source": [
        "class TwitterUser:\n",
        "    def __init__(self, name):\n",
        "        self.name = name\n",
        "        self.tweets = [] #This will be a list of all tweets, these should be Tweet objects\n",
        "    \n",
        "    def append(self, tweet):\n",
        "        assert isinstance(tweet, Tweet) #this code will check if tweet is an instance\n",
        "                                        #of the Tweet class. If not, an exception\n",
        "                                        #will be raised\n",
        "        #append the tweet to our list\n",
        "        self.tweets.append(tweet)\n",
        "        \n",
        "    def __iter__(self):\n",
        "        for tweet in sorted(self.tweets):\n",
        "            yield tweet\n",
        "\n",
        "    def __len__(self):\n",
        "        return len(self.tweets)\n",
        "\n",
        "        \n",
        "tweeter = TwitterUser(\"proycon\")\n",
        "tweeter.append(Tweet(\"My peanut butter sandwich has just fallen bottoms-down\",4)) \n",
        "tweeter.append(Tweet(\"Tying my shoelaces\",2)) \n",
        "tweeter.append(Tweet(\"Wiggling my toes\",3)) \n",
        "tweeter.append(Tweet(\"Staring at a bird\",1)) \n",
        "\n",
        "for tweet in tweeter:\n",
        "    print(tweet.message)\n",
        "    "
      ],
      "outputs": [
        {
          "output_type": "stream",
          "name": "stdout",
          "text": [
            "Staring at a bird\n",
            "Tying my shoelaces\n",
            "Wiggling my toes\n",
            "My peanut butter sandwich has just fallen bottoms-down\n"
          ]
        },
        {
          "output_type": "execute_result",
          "data": {
            "text/plain": [
              "'My peanut butter sandwich has just fallen bottoms-down'"
            ],
            "application/vnd.google.colaboratory.intrinsic+json": {
              "type": "string"
            }
          },
          "metadata": {},
          "execution_count": 17
        }
      ],
      "metadata": {
        "colab": {
          "base_uri": "https://localhost:8080/",
          "height": 105
        },
        "id": "wHPhAbBQuei_",
        "outputId": "c2a00e98-41a1-4898-ec7e-2b4fa596f151"
      },
      "execution_count": null
    },
    {
      "cell_type": "markdown",
      "source": [
        "####Exercise"
      ],
      "metadata": {
        "id": "BuudKkJouejA"
      }
    },
    {
      "cell_type": "markdown",
      "source": [
        "The method `__len__` is invoked when the built-in function `len()` is used. We want it to return the number of tweets a user has. Implement it in the example above and then run the following test, which should return `True` if you did well:"
      ],
      "metadata": {
        "id": "GGM4VaNzuejA"
      }
    },
    {
      "cell_type": "code",
      "source": [
        "print(len(tweeter) == 4)"
      ],
      "outputs": [
        {
          "output_type": "stream",
          "name": "stdout",
          "text": [
            "True\n"
          ]
        }
      ],
      "metadata": {
        "colab": {
          "base_uri": "https://localhost:8080/"
        },
        "id": "SOMXGqQyuejA",
        "outputId": "e73b815a-cb5b-4c71-e3be-afa8334c651f"
      },
      "execution_count": null
    },
    {
      "cell_type": "markdown",
      "source": [
        "---"
      ],
      "metadata": {
        "id": "R_EYrnA7uejA"
      }
    },
    {
      "cell_type": "markdown",
      "source": [
        "##Extracting a social network of Twitter users"
      ],
      "metadata": {
        "id": "iP_wCi2_uejB"
      }
    },
    {
      "cell_type": "markdown",
      "source": [
        "Now we will turn to the practical assignment of this chapter. The extraction of a graph of who tweets whom. For this purpose we make available the dataset [twitterdata.zip](http://lst.science.ru.nl/~proycon/twitterdata.zip) , download and extract it in a location of your choice."
      ],
      "metadata": {
        "id": "D3SllkZ_uejB"
      }
    },
    {
      "cell_type": "markdown",
      "source": [
        "The program we are writing will consist of three classes: `Tweet`,`TweetUser` and `TweetGraph`. `TweetGraph` will maintain a dictionary of users (`TweetUser`), these are the nodes of our graph. `TweetUser` will in turn maintain a list of tweets (`Tweet`). `TweetUser` will also maintain a dictionary in which the keys are other TweetUser instances and the values indicate the weight of the relationship. This thus makes up the edges of our graph.\n"
      ],
      "metadata": {
        "id": "FUb_lb0ZuejC"
      }
    },
    {
      "cell_type": "markdown",
      "source": [
        "You will not have to write everything from scratch, we will provide a full skeleton in which you have to implement certain methods. We are going to use our external editor for this assignment. Copy the below code, edit it, and save it as `tweetnet.py`. When done, run the program from the command line, passing it one parameter, the directory where the *txt files from twitterdata.zip can be found: *python3 tweetnet.py /path/to/twitterdata/*"
      ],
      "metadata": {
        "id": "YKLR1wEPuejC"
      }
    },
    {
      "cell_type": "code",
      "source": [
        "#! /usr/bin/env python3\n",
        "# -*- coding: utf8 -*-\n",
        "\n",
        "import sys\n",
        "import preprocess\n",
        "\n",
        "\n",
        "class Tweet:    \n",
        "    def __init__(self, message, time):\n",
        "        self.message = message\n",
        "        self.time = time\n",
        "        \n",
        "\n",
        "class TwitterUser:\n",
        "    def __init__(self, name):\n",
        "        self.name = name\n",
        "        self.tweets = [] #This will be a list of all tweets \n",
        "        self.relations = {} #This will be a dictionary in which the keys are TwitterUser objects and the values are the weight of the relation (an integer) \n",
        "    \n",
        "    def append(self, tweet):\n",
        "        assert isinstance(tweet, Tweet) #this is a test, if tweet is not an instance\n",
        "                                        #of Tweet, it will raise an Exception.\n",
        "        self.tweets.append(tweet)\n",
        "        \n",
        "    def __iter__(self):\n",
        "        #This function, a generator, should iterate over all tweets\n",
        "        #<INSERT YOUR CODE HERE>\n",
        "        \n",
        "    \n",
        "    def __hash__(self):    \n",
        "        #For an object to be usable as a dictionary key, it must have a hash method. Call the hash() function over something that uniquely defined this object\n",
        "        #and thus can act as a key in a dictionary. In our case, the user name is good, as no two users will have the same name:          \n",
        "        return hash(self.name)\n",
        "    \n",
        "    \n",
        "    def addrelation(self, user):\n",
        "        if user and user != self.name: #user must not be empty, and must not be the user itself\n",
        "            if user in self.relations:\n",
        "                #the user is already in our relations, strengthen the bond:\n",
        "                self.relations[user] += 1\n",
        "            elif user in graph:                        \n",
        "                #the user exists in the graph, we can add a relation!\n",
        "                self.relations[user] = 1\n",
        "            #if the user does not exist in the graph, no relations will be added        \n",
        "        \n",
        "    \n",
        "    def computerelations(self, graph):\n",
        "        for tweet in self:\n",
        "            #tokenise the actual tweet content (use the tokeniser in preprocess!):\n",
        "            tokens = #<INSERT YOUR CODE HERE>\n",
        "            \n",
        "            #Search for @username tokens, extract the username, and call self.addrelation()\n",
        "            #<INSERT YOUR CODE HERE>\n",
        "        \n",
        "        \n",
        "    def printrelations(self):\n",
        "        #print the relations, include both users and the weight\n",
        "        #<INSERT YOUR CODE HERE>\n",
        " \n",
        "        \n",
        "    def gephioutput(self): \n",
        "        #produce CSV output that gephi can import\n",
        "        for recipient, weight in self.relations.items():\n",
        "            for i in range(0, weight):\n",
        "                yield self.name + \",\" + recipient\n",
        " \n",
        "        \n",
        "class TwitterGraph:\n",
        "    def __init__(self, corpusdirectory):        \n",
        "        self.users = {} #initialisation of dictionary that will store all twitter users. They keys are the names, the values are TwitterUser objects.\n",
        "                        #the keys are the usernames (strings), and the values are\n",
        "                        # TweetUser instances\n",
        "                \n",
        "        #Load the twitter corpus \n",
        "        #tip: use preprocess.find_corpusfiles and preprocess.read_corpus_file,\n",
        "        #do not use preproces.readcorpus as that will include sentence segmentation\n",
        "        #which we do not want\n",
        "        \n",
        "        #Each txt file contains the tweets of one user.\n",
        "        #all files contain three columns, separated by a TAB (\\t). The first column\n",
        "        #is the user, the second the time, and the third is the tweetmessage itself.\n",
        "        #Create Tweet instances for every line that contains a @ (ignore other lines \n",
        "        #to conserve memory). Add those tweet instances to the right TweetUser. Create\n",
        "        #TweetUser instances as new users are encountered.\n",
        "        \n",
        "        #self.users[user], which user being the username (string), should be an instance of the\n",
        "        #of TweetUser\n",
        "        \n",
        "        #<INSERT YOUR CODE HERE>\n",
        "\n",
        "            \n",
        "        #Compute relations between users\n",
        "        for user in self:\n",
        "            assert isinstance(user,TweetUser)\n",
        "            user.computerelations(self)\n",
        "    \n",
        "\n",
        "    \n",
        "    def __contains__(self, user):\n",
        "        #Does this user exist?\n",
        "        return user in self.users\n",
        "    \n",
        "    def __iter__(self):\n",
        "        #Iterate over all users\n",
        "        for user in self.users.values():\n",
        "            yield user\n",
        "\n",
        "    def __getitem__(self, user):    \n",
        "        #Retrieve the specified user\n",
        "        return self.users[user]\n",
        "            \n",
        "\n",
        "#this is the actual main body of the program. The program should be passed one parameter\n",
        "#on the command line: the directory that contains the *.txt files from twitterdata.zip.\n",
        "\n",
        "#We instantiate the graph, which will load and compute all relations\n",
        "twittergraph = TwitterGraph(sys.argv[1])\n",
        "\n",
        "#We output all relations:\n",
        "for twitteruser in twittergraph:\n",
        "    twitteruser.printrelations()\n",
        "\n",
        "#And we output to a file so you can visualise your graph in the program GEPHI\n",
        "f = open('gephigraph.csv','wt',encoding='utf-8')\n",
        "for twitteruser in twittergraph:\n",
        "    for line in twitteruser.gephioutput(): \n",
        "        f.write(line + \"\\n\")\n",
        "f.close()\n"
      ],
      "outputs": [],
      "metadata": {
        "id": "wUA0lseNuejC"
      },
      "execution_count": null
    },
    {
      "cell_type": "markdown",
      "source": [
        "---"
      ],
      "metadata": {
        "id": "0d9sUUtSuejE"
      }
    },
    {
      "cell_type": "markdown",
      "source": [
        "Ignore this, it's only here to make the page pretty:"
      ],
      "metadata": {
        "id": "qS17EEAOuejE"
      }
    },
    {
      "cell_type": "code",
      "source": [
        "from IPython.core.display import HTML\n",
        "def css_styling():\n",
        "    styles = open(\"styles/custom.css\", \"r\").read()\n",
        "    return HTML(styles)\n",
        "css_styling()"
      ],
      "outputs": [
        {
          "output_type": "execute_result",
          "data": {},
          "metadata": {},
          "execution_count": 1
        }
      ],
      "metadata": {
        "id": "8oGwGKE4uejF",
        "outputId": "351a609b-1873-4dec-c5bd-ea15528607eb"
      },
      "execution_count": null
    },
    {
      "cell_type": "markdown",
      "source": [
        "---"
      ],
      "metadata": {
        "id": "yIOaZu9duejG"
      }
    },
    {
      "cell_type": "markdown",
      "source": [
        "<p><small><a rel=\"license\" href=\"http://creativecommons.org/licenses/by-sa/4.0/\"><img alt=\"Creative Commons License\" style=\"border-width:0\" src=\"https://i.creativecommons.org/l/by-sa/4.0/88x31.png\" /></a><br /><span xmlns:dct=\"http://purl.org/dc/terms/\" property=\"dct:title\">Python Programming for the Humanities</span> by <a xmlns:cc=\"http://creativecommons.org/ns#\" href=\"http://fbkarsdorp.github.io/python-course\" property=\"cc:attributionName\" rel=\"cc:attributionURL\">http://fbkarsdorp.github.io/python-course</a> is licensed under a <a rel=\"license\" href=\"http://creativecommons.org/licenses/by-sa/4.0/\">Creative Commons Attribution-ShareAlike 4.0 International License</a>. Based on a work at <a xmlns:dct=\"http://purl.org/dc/terms/\" href=\"https://github.com/fbkarsdorp/python-course\" rel=\"dct:source\">https://github.com/fbkarsdorp/python-course</a>.</small></p>"
      ],
      "metadata": {
        "id": "ij9SuFMSuejG"
      }
    }
  ]
}